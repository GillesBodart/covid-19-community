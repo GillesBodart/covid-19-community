{
 "cells": [
  {
   "cell_type": "markdown",
   "metadata": {
    "slideshow": {
     "slide_type": "slide"
    }
   },
   "source": [
    "# Create Neo4j Graph Database"
   ]
  },
  {
   "cell_type": "markdown",
   "metadata": {},
   "source": [
    "First run notebook [1a-Strains.ipynb](./1a-Strains.ipynb) to create the node and relationship files in the /data directory."
   ]
  },
  {
   "cell_type": "markdown",
   "metadata": {},
   "source": [
    "[Neo4j Import Guide](https://neo4j.com/developer/guide-import-csv/)\n",
    "\n",
    "[Neo4j Batch Import](https://neo4j.com/docs/operations-manual/current/tools/import/)"
   ]
  },
  {
   "cell_type": "code",
   "execution_count": 2,
   "metadata": {},
   "outputs": [],
   "source": [
    "import os"
   ]
  },
  {
   "cell_type": "code",
   "execution_count": 3,
   "metadata": {},
   "outputs": [
    {
     "name": "stdout",
     "output_type": "stream",
     "text": [
      "C:\\Users\\ABM589\\.Neo4jDesktop\\neo4jDatabases\\database-0792204b-06f5-45c8-a473-faab7638e73a\\installation-4.0.1\n"
     ]
    }
   ],
   "source": [
    "NEO4J_HOME = os.getenv('NEO4J_HOME')\n",
    "print(NEO4J_HOME)"
   ]
  },
  {
   "cell_type": "code",
   "execution_count": 3,
   "metadata": {},
   "outputs": [],
   "source": [
    "# Print neo4j-admin help\n",
    "# !\"$NEO4J_HOME\"/bin/neo4j-admin import"
   ]
  },
  {
   "cell_type": "markdown",
   "metadata": {},
   "source": [
    "Remove existing database (can only batch upload into an empty database)"
   ]
  },
  {
   "cell_type": "code",
   "execution_count": 4,
   "metadata": {},
   "outputs": [],
   "source": [
    "!rm -r \"$NEO4J_HOME\"/data/databases/graph.db"
   ]
  },
  {
   "cell_type": "markdown",
   "metadata": {},
   "source": [
    "Batch upload nodes and relationships"
   ]
  },
  {
   "cell_type": "code",
   "execution_count": 19,
   "metadata": {},
   "outputs": [
    {
     "name": "stdout",
     "output_type": "stream",
     "text": [
      "['!C:\\\\Users\\\\ABM589\\\\.Neo4jDesktop\\\\neo4jDatabases\\\\database-0792204b-06f5-45c8-a473-faab7638e73a\\\\installation-4.0.1/bin/neo4j-admin', 'import', '--database=graph.db', '--id-type=STRING', '--max-memory=250000', '--nodes=../reference_data/nodes/Dashboard.csv', '--nodes=../reference_data/nodes/Outbreak.csv', '--nodes=../reference_data/nodes/Pathogen.csv', '--nodes=../reference_data/nodes/ReferenceGenome.csv', '--nodes=../reference_data/nodes/.ipynb_checkpoints\\\\ReferenceGenome-checkpoint.csv', '--nodes=../data/nodes/Admin1.csv', '--nodes=../data/nodes/Admin2.csv', '--nodes=../data/nodes/City.csv', '--nodes=../data/nodes/Country.csv', '--nodes=../data/nodes/Host.csv', '--nodes=../data/nodes/PersonAnimal.csv', '--nodes=../data/nodes/Strain.csv', '--relationships=../reference_data/relationships/City-EXPLORE_IN-Dashboard.csv', '--relationships=../reference_data/relationships/Outbreak-EXPLORE_IN-Dashboard.csv', '--relationships=../reference_data/relationships/Pathogen-CAUSES-Outbreak.csv', '--relationships=../reference_data/relationships/ReferenceGenome-ENCODES-Pathogen.csv', '--relationships=../reference_data/relationships/.ipynb_checkpoints\\\\City-EXPLORE_IN-Dashboard-checkpoint.csv', '--relationships=../data/relationships/Pathogen-HAS-Strain.csv', '--relationships=../data/relationships/PersonAnimal-CARRIES-Strain.csv', '--relationships=../data/relationships/PersonAnimal-IS_A-Host.csv', '--relationships=../data/relationships/PersonAnimal-LOCATED_IN-Admin1.csv', '--relationships=../data/relationships/PersonAnimal-LOCATED_IN-Admin2.csv', '--relationships=../data/relationships/PersonAnimal-LOCATED_IN-City.csv', '--relationships=../data/relationships/PersonAnimal-LOCATED_IN-Country.csv', '--relationships=../data/relationships/Strain-FOUND_IN-Admin1.csv', '--relationships=../data/relationships/Strain-FOUND_IN-Admin2.csv', '--relationships=../data/relationships/Strain-FOUND_IN-City.csv', '--relationships=../data/relationships/Strain-FOUND_IN-Country.csv']\n"
     ]
    }
   ],
   "source": [
    "\n",
    "nodes_files = []\n",
    "relationships_files = []\n",
    "for root, dirs, files in os.walk('../reference_data/nodes/'):\n",
    "    for file in files: \n",
    "        nodes_files.append(os.path.join(root, file))\n",
    "for root, dirs, files in os.walk('../data/nodes/'):\n",
    "    for file in files: \n",
    "        nodes_files.append(os.path.join(root, file))\n",
    "for root, dirs, files in os.walk('../reference_data/relationships/'):\n",
    "    for file in files: \n",
    "        relationships_files.append(os.path.join(root, file))\n",
    "for root, dirs, files in os.walk('../data/relationships/'):\n",
    "    for file in files: \n",
    "        relationships_files.append(os.path.join(root, file))\n",
    "\n",
    "command_tokens = ['!'+NEO4J_HOME+'/bin/neo4j-admin']\n",
    "command_tokens.append('import')\n",
    "command_tokens.append('--database=graph.db')\n",
    "command_tokens.append('--id-type=STRING')\n",
    "command_tokens.append('--max-memory=250000') \n",
    "for node in nodes_files:\n",
    "    command_tokens.append('--nodes=' + node)\n",
    "for relationship in relationships_files:\n",
    "    command_tokens.append('--relationships=' + relationship)\n",
    "    \n",
    "print (command_tokens)"
   ]
  },
  {
   "cell_type": "code",
   "execution_count": 20,
   "metadata": {},
   "outputs": [
    {
     "ename": "FileNotFoundError",
     "evalue": "[WinError 2] The system cannot find the file specified",
     "output_type": "error",
     "traceback": [
      "\u001b[1;31m---------------------------------------------------------------------------\u001b[0m",
      "\u001b[1;31mFileNotFoundError\u001b[0m                         Traceback (most recent call last)",
      "\u001b[1;32m<ipython-input-20-cc7225d26903>\u001b[0m in \u001b[0;36m<module>\u001b[1;34m\u001b[0m\n\u001b[0;32m      1\u001b[0m \u001b[1;32mimport\u001b[0m \u001b[0msubprocess\u001b[0m\u001b[1;33m\u001b[0m\u001b[1;33m\u001b[0m\u001b[0m\n\u001b[0;32m      2\u001b[0m \u001b[1;33m\u001b[0m\u001b[0m\n\u001b[1;32m----> 3\u001b[1;33m \u001b[0msubprocess\u001b[0m\u001b[1;33m.\u001b[0m\u001b[0mcall\u001b[0m\u001b[1;33m(\u001b[0m\u001b[0mcommand_tokens\u001b[0m\u001b[1;33m)\u001b[0m\u001b[1;33m\u001b[0m\u001b[1;33m\u001b[0m\u001b[0m\n\u001b[0m",
      "\u001b[1;32m~\\AppData\\Local\\Continuum\\miniconda3\\envs\\covid-19-community\\lib\\subprocess.py\u001b[0m in \u001b[0;36mcall\u001b[1;34m(timeout, *popenargs, **kwargs)\u001b[0m\n\u001b[0;32m    337\u001b[0m     \u001b[0mretcode\u001b[0m \u001b[1;33m=\u001b[0m \u001b[0mcall\u001b[0m\u001b[1;33m(\u001b[0m\u001b[1;33m[\u001b[0m\u001b[1;34m\"ls\"\u001b[0m\u001b[1;33m,\u001b[0m \u001b[1;34m\"-l\"\u001b[0m\u001b[1;33m]\u001b[0m\u001b[1;33m)\u001b[0m\u001b[1;33m\u001b[0m\u001b[1;33m\u001b[0m\u001b[0m\n\u001b[0;32m    338\u001b[0m     \"\"\"\n\u001b[1;32m--> 339\u001b[1;33m     \u001b[1;32mwith\u001b[0m \u001b[0mPopen\u001b[0m\u001b[1;33m(\u001b[0m\u001b[1;33m*\u001b[0m\u001b[0mpopenargs\u001b[0m\u001b[1;33m,\u001b[0m \u001b[1;33m**\u001b[0m\u001b[0mkwargs\u001b[0m\u001b[1;33m)\u001b[0m \u001b[1;32mas\u001b[0m \u001b[0mp\u001b[0m\u001b[1;33m:\u001b[0m\u001b[1;33m\u001b[0m\u001b[1;33m\u001b[0m\u001b[0m\n\u001b[0m\u001b[0;32m    340\u001b[0m         \u001b[1;32mtry\u001b[0m\u001b[1;33m:\u001b[0m\u001b[1;33m\u001b[0m\u001b[1;33m\u001b[0m\u001b[0m\n\u001b[0;32m    341\u001b[0m             \u001b[1;32mreturn\u001b[0m \u001b[0mp\u001b[0m\u001b[1;33m.\u001b[0m\u001b[0mwait\u001b[0m\u001b[1;33m(\u001b[0m\u001b[0mtimeout\u001b[0m\u001b[1;33m=\u001b[0m\u001b[0mtimeout\u001b[0m\u001b[1;33m)\u001b[0m\u001b[1;33m\u001b[0m\u001b[1;33m\u001b[0m\u001b[0m\n",
      "\u001b[1;32m~\\AppData\\Local\\Continuum\\miniconda3\\envs\\covid-19-community\\lib\\subprocess.py\u001b[0m in \u001b[0;36m__init__\u001b[1;34m(self, args, bufsize, executable, stdin, stdout, stderr, preexec_fn, close_fds, shell, cwd, env, universal_newlines, startupinfo, creationflags, restore_signals, start_new_session, pass_fds, encoding, errors, text)\u001b[0m\n\u001b[0;32m    798\u001b[0m                                 \u001b[0mc2pread\u001b[0m\u001b[1;33m,\u001b[0m \u001b[0mc2pwrite\u001b[0m\u001b[1;33m,\u001b[0m\u001b[1;33m\u001b[0m\u001b[1;33m\u001b[0m\u001b[0m\n\u001b[0;32m    799\u001b[0m                                 \u001b[0merrread\u001b[0m\u001b[1;33m,\u001b[0m \u001b[0merrwrite\u001b[0m\u001b[1;33m,\u001b[0m\u001b[1;33m\u001b[0m\u001b[1;33m\u001b[0m\u001b[0m\n\u001b[1;32m--> 800\u001b[1;33m                                 restore_signals, start_new_session)\n\u001b[0m\u001b[0;32m    801\u001b[0m         \u001b[1;32mexcept\u001b[0m\u001b[1;33m:\u001b[0m\u001b[1;33m\u001b[0m\u001b[1;33m\u001b[0m\u001b[0m\n\u001b[0;32m    802\u001b[0m             \u001b[1;31m# Cleanup if the child failed starting.\u001b[0m\u001b[1;33m\u001b[0m\u001b[1;33m\u001b[0m\u001b[1;33m\u001b[0m\u001b[0m\n",
      "\u001b[1;32m~\\AppData\\Local\\Continuum\\miniconda3\\envs\\covid-19-community\\lib\\subprocess.py\u001b[0m in \u001b[0;36m_execute_child\u001b[1;34m(self, args, executable, preexec_fn, close_fds, pass_fds, cwd, env, startupinfo, creationflags, shell, p2cread, p2cwrite, c2pread, c2pwrite, errread, errwrite, unused_restore_signals, unused_start_new_session)\u001b[0m\n\u001b[0;32m   1205\u001b[0m                                          \u001b[0menv\u001b[0m\u001b[1;33m,\u001b[0m\u001b[1;33m\u001b[0m\u001b[1;33m\u001b[0m\u001b[0m\n\u001b[0;32m   1206\u001b[0m                                          \u001b[0mos\u001b[0m\u001b[1;33m.\u001b[0m\u001b[0mfspath\u001b[0m\u001b[1;33m(\u001b[0m\u001b[0mcwd\u001b[0m\u001b[1;33m)\u001b[0m \u001b[1;32mif\u001b[0m \u001b[0mcwd\u001b[0m \u001b[1;32mis\u001b[0m \u001b[1;32mnot\u001b[0m \u001b[1;32mNone\u001b[0m \u001b[1;32melse\u001b[0m \u001b[1;32mNone\u001b[0m\u001b[1;33m,\u001b[0m\u001b[1;33m\u001b[0m\u001b[1;33m\u001b[0m\u001b[0m\n\u001b[1;32m-> 1207\u001b[1;33m                                          startupinfo)\n\u001b[0m\u001b[0;32m   1208\u001b[0m             \u001b[1;32mfinally\u001b[0m\u001b[1;33m:\u001b[0m\u001b[1;33m\u001b[0m\u001b[1;33m\u001b[0m\u001b[0m\n\u001b[0;32m   1209\u001b[0m                 \u001b[1;31m# Child is launched. Close the parent's copy of those pipe\u001b[0m\u001b[1;33m\u001b[0m\u001b[1;33m\u001b[0m\u001b[1;33m\u001b[0m\u001b[0m\n",
      "\u001b[1;31mFileNotFoundError\u001b[0m: [WinError 2] The system cannot find the file specified"
     ]
    }
   ],
   "source": [
    "import subprocess\n",
    "\n",
    "subprocess.call(command_tokens)"
   ]
  }
 ],
 "metadata": {
  "celltoolbar": "Slideshow",
  "kernelspec": {
   "display_name": "Python 3",
   "language": "python",
   "name": "python3"
  },
  "language_info": {
   "codemirror_mode": {
    "name": "ipython",
    "version": 3
   },
   "file_extension": ".py",
   "mimetype": "text/x-python",
   "name": "python",
   "nbconvert_exporter": "python",
   "pygments_lexer": "ipython3",
   "version": "3.7.6"
  }
 },
 "nbformat": 4,
 "nbformat_minor": 4
}
