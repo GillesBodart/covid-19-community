{
 "cells": [
  {
   "cell_type": "markdown",
   "metadata": {
    "slideshow": {
     "slide_type": "slide"
    }
   },
   "source": [
    "# Create Neo4j Graph Database"
   ]
  },
  {
   "cell_type": "markdown",
   "metadata": {},
   "source": [
    "First run notebook [1a-Strains.ipynb](./1a-Strains.ipynb) to create the node and relationship files in the /data directory."
   ]
  },
  {
   "cell_type": "markdown",
   "metadata": {},
   "source": [
    "[Neo4j Import Guide](https://neo4j.com/developer/guide-import-csv/)\n",
    "\n",
    "[Neo4j Batch Import](https://neo4j.com/docs/operations-manual/current/tools/import/)"
   ]
  },
  {
   "cell_type": "code",
   "execution_count": 2,
   "metadata": {},
   "outputs": [],
   "source": [
    "import os"
   ]
  },
  {
   "cell_type": "code",
   "execution_count": 3,
   "metadata": {},
   "outputs": [],
   "source": [
    "#!\"$NEO4J_HOME\"/bin/neo4j-admin import --database=graph.db --id-type=STRING --max-memory=250000 \\\n",
    "#    --nodes=../reference_data/nodes/Outbreak.csv \\\n",
    "#    --nodes=../reference_data/nodes/Pathogen.csv \\\n",
    "#    --nodes=../reference_data/nodes/Dashboard.csv \\\n",
    "#    --nodes=../data/nodes/Admin1.csv \\\n",
    "#    --nodes=../data/nodes/Admin2.csv \\\n",
    "#    --nodes=../data/nodes/City.csv \\\n",
    "#    --nodes=../data/nodes/Country.csv \\\n",
    "#    --nodes=../data/nodes/Host.csv \\\n",
    "#    --nodes=../data/nodes/PersonAnimal.csv \\\n",
    "#    --nodes=../data/nodes/Strain.csv \\\n",
    "#    --relationships=../reference_data/relationships/Pathogen-CAUSES-Outbreak.csv \\\n",
    "#    --relationships=../reference_data/relationships/Outbreak-EXPLORE_IN-Dashboard.csv \\\n",
    "#    --relationships=../reference_data/relationships/City-EXPLORE_IN-Dashboard.csv \\\n",
    "#    --relationships=../data/relationships/PersonAnimal-CARRIES-Strain.csv \\\n",
    "#    --relationships=../data/relationships/PersonAnimal-IS_A-Host.csv \\\n",
    "#    --relationships=../data/relationships/Strain-FOUND_IN-Admin1.csv \\\n",
    "#    --relationships=../data/relationships/Strain-FOUND_IN-Admin2.csv \\\n",
    "#    --relationships=../data/relationships/Strain-FOUND_IN-City.csv \\\n",
    "#    --relationships=../data/relationships/Strain-FOUND_IN-Country.csv \\\n",
    "#    --relationships=../data/relationships/PersonAnimal-LOCATED_IN-Admin1.csv \\\n",
    "#    --relationships=../data/relationships/PersonAnimal-LOCATED_IN-Admin2.csv \\\n",
    "#    --relationships=../data/relationships/PersonAnimal-LOCATED_IN-City.csv \\\n",
    "#    --relationships=../data/relationships/PersonAnimal-LOCATED_IN-Country.csv \\\n",
    "#    --relationships=../data/relationships/Pathogen-HAS-Strain.csv"
   ]
  },
  {
   "cell_type": "code",
   "execution_count": 4,
   "metadata": {},
   "outputs": [],
   "source": [
    "from py2neo import Graph, Node, Relationship, NodeMatcher\n",
    "import re"
   ]
  },
  {
   "cell_type": "code",
   "execution_count": 5,
   "metadata": {},
   "outputs": [],
   "source": [
    "from py2neo import Database\n",
    "graph = Graph(host=\"localhost\",password='covid')\n",
    "matcher = NodeMatcher(graph)\n",
    "\n",
    "pattern_id = re.compile('.*?:ID\\(([\\w_]+)\\)')\n",
    "pattern_start = re.compile(':START_ID\\(([\\w_]+)\\)')\n",
    "pattern_end = re.compile(':END_ID\\(([\\w_]+)\\)')"
   ]
  },
  {
   "cell_type": "code",
   "execution_count": 6,
   "metadata": {},
   "outputs": [],
   "source": [
    "graph.delete_all()"
   ]
  },
  {
   "cell_type": "code",
   "execution_count": 7,
   "metadata": {},
   "outputs": [
    {
     "name": "stdout",
     "output_type": "stream",
     "text": [
      "Dashboard.csv\n",
      "Outbreak.csv\n",
      "Pathogen.csv\n",
      "ReferenceGenome.csv\n",
      "ReferenceGenome-checkpoint.csv\n"
     ]
    }
   ],
   "source": [
    "for root, dirs, files in os.walk('../reference_data/nodes/'):\n",
    "     for file in files:\n",
    "        tx = graph.begin()\n",
    "        with open(os.path.join(root, file), \"r\") as auto:\n",
    "            print (file) \n",
    "            headers = auto.readline().strip().split(',')  \n",
    "            matcher_id = pattern_id.match(headers[0]) \n",
    "            headers[0] = matcher_id.group(1) \n",
    "            for line in auto:\n",
    "                properties = line.strip().split(',')\n",
    "                node_props = {}\n",
    "                node_labels = None\n",
    "                for i in range(len(headers)):\n",
    "                    if (headers[i] !=':LABEL'):\n",
    "                        node_props[headers[i]] = properties[i]\n",
    "                    else:\n",
    "                        node_labels = properties[i].split(';')\n",
    "                node = Node.cast(node_props)\n",
    "                node.update_labels(node_labels) \n",
    "                # print (node)\n",
    "                tx.create(node)\n",
    "            tx.commit()\n",
    "        "
   ]
  },
  {
   "cell_type": "code",
   "execution_count": 8,
   "metadata": {},
   "outputs": [
    {
     "name": "stdout",
     "output_type": "stream",
     "text": [
      "Admin1.csv\n",
      "Admin2.csv\n",
      "City.csv\n",
      "Country.csv\n",
      "Host.csv\n",
      "PersonAnimal.csv\n",
      "Strain.csv\n"
     ]
    }
   ],
   "source": [
    "for root, dirs, files in os.walk('../data/nodes/'):\n",
    "     for file in files:\n",
    "        tx = graph.begin()\n",
    "        with open(os.path.join(root, file), \"r\") as auto:\n",
    "            print (file) \n",
    "            headers = auto.readline().strip().split(',')  \n",
    "            matcher_id = pattern_id.match(headers[0]) \n",
    "            headers[0] = matcher_id.group(1) \n",
    "            for line in auto:\n",
    "                properties = line.strip().split(',')\n",
    "                node_props = {}\n",
    "                node_labels = None\n",
    "                for i in range(len(headers)):\n",
    "                    if (headers[i] !=':LABEL'):\n",
    "                        node_props[headers[i]] = properties[i]\n",
    "                    else:\n",
    "                        node_labels = properties[i].split(';')\n",
    "                node = Node.cast(node_props)\n",
    "                node.update_labels(node_labels) \n",
    "                #print (node)\n",
    "                tx.create(node)\n",
    "            tx.commit()"
   ]
  },
  {
   "cell_type": "code",
   "execution_count": 10,
   "metadata": {},
   "outputs": [
    {
     "name": "stdout",
     "output_type": "stream",
     "text": [
      "City-EXPLORE_IN-Dashboard.csv\n",
      "Outbreak-EXPLORE_IN-Dashboard.csv\n",
      "Pathogen-CAUSES-Outbreak.csv\n",
      "ReferenceGenome-ENCODES-Pathogen.csv\n",
      "City-EXPLORE_IN-Dashboard-checkpoint.csv\n"
     ]
    }
   ],
   "source": [
    "for root, dirs, files in os.walk('../reference_data/relationships/'):\n",
    "     for file in files:\n",
    "        tx = graph.begin()\n",
    "        with open(os.path.join(root, file), \"r\") as auto:\n",
    "            print (file) \n",
    "            headers = auto.readline().strip().split(',')  \n",
    "            for line in auto:\n",
    "                properties = line.strip().split(',')\n",
    "                rel_props = {}\n",
    "                rel_types = None\n",
    "                rel_origin_prop = None\n",
    "                rel_target_prop = None\n",
    "                origin_id = None\n",
    "                target_id = None \n",
    "                if (len(headers) == len(properties)):\n",
    "                    for i in range(len(headers)):\n",
    "                        if (headers[i] ==':TYPE'):\n",
    "                            rel_types = properties[i]\n",
    "                        elif (pattern_start.match(headers[i])):\n",
    "                            rel_origin_prop = pattern_start.match(headers[i]).group(1)  \n",
    "                            origin_id = properties[i]\n",
    "                        elif (pattern_end.match(headers[i])):\n",
    "                            rel_target_prop = pattern_end.match(headers[i]).group(1) \n",
    "                            target_id = properties[i]\n",
    "                        else:\n",
    "                            rel_props[headers[i]] = properties[i]\n",
    "                    origin_node = matcher.match().where(\"_.\"+rel_origin_prop+\" = '\"+origin_id.replace('\\'','\\\\\\'')+\"'\").first()\n",
    "                    target_node = matcher.match().where(\"_.\"+rel_target_prop+\" = '\"+target_id.replace('\\'','\\\\\\'')+\"'\").first()\n",
    "                    relationship = Relationship(origin_node,rel_types,target_node)\n",
    "                    #print(relationship)\n",
    "                    tx.merge(relationship)\n",
    "            tx.commit()"
   ]
  },
  {
   "cell_type": "code",
   "execution_count": 11,
   "metadata": {},
   "outputs": [
    {
     "name": "stdout",
     "output_type": "stream",
     "text": [
      "Pathogen-HAS-Strain.csv\n",
      "PersonAnimal-CARRIES-Strain.csv\n",
      "PersonAnimal-IS_A-Host.csv\n",
      "PersonAnimal-LOCATED_IN-Admin1.csv\n",
      "PersonAnimal-LOCATED_IN-Admin2.csv\n",
      "PersonAnimal-LOCATED_IN-City.csv\n",
      "PersonAnimal-LOCATED_IN-Country.csv\n",
      "Strain-FOUND_IN-Admin1.csv\n",
      "Strain-FOUND_IN-Admin2.csv\n",
      "Strain-FOUND_IN-City.csv\n",
      "Strain-FOUND_IN-Country.csv\n"
     ]
    }
   ],
   "source": [
    "for root, dirs, files in os.walk('../data/relationships/'):\n",
    "     for file in files:\n",
    "        tx = graph.begin()\n",
    "        with open(os.path.join(root, file), \"r\") as auto:\n",
    "            print (file) \n",
    "            headers = auto.readline().strip().split(',')  \n",
    "            for line in auto:\n",
    "                properties = line.strip().split(',')\n",
    "                rel_props = {}\n",
    "                rel_types = None\n",
    "                origin_id = None\n",
    "                target_id = None\n",
    "                if (len(headers) == len(properties)):\n",
    "                    for i in range(len(headers)):\n",
    "                        if (headers[i] ==':TYPE'):\n",
    "                            rel_types = properties[i]\n",
    "                        elif (pattern_start.match(headers[i])):\n",
    "                            rel_origin_prop = pattern_start.match(headers[i]).group(1)  \n",
    "                            origin_id = properties[i]\n",
    "                        elif (pattern_end.match(headers[i])):\n",
    "                            rel_target_prop = pattern_end.match(headers[i]).group(1) \n",
    "                            target_id = properties[i]\n",
    "                        else:\n",
    "                            rel_props[headers[i]] = properties[i]\n",
    "                    origin_node = matcher.match().where(\"_.\"+rel_origin_prop+\" = '\"+origin_id.replace('\\'','\\\\\\'')+\"'\").first()\n",
    "                    target_node = matcher.match().where(\"_.\"+rel_target_prop+\" = '\"+target_id.replace('\\'','\\\\\\'')+\"'\").first()\n",
    "                    relationship = Relationship(origin_node,rel_types,target_node)\n",
    "                    #print(relationship)\n",
    "                    tx.merge(relationship)\n",
    "            tx.commit()"
   ]
  },
  {
   "cell_type": "code",
   "execution_count": null,
   "metadata": {},
   "outputs": [],
   "source": []
  },
  {
   "cell_type": "code",
   "execution_count": null,
   "metadata": {},
   "outputs": [],
   "source": []
  },
  {
   "cell_type": "code",
   "execution_count": null,
   "metadata": {},
   "outputs": [],
   "source": []
  }
 ],
 "metadata": {
  "celltoolbar": "Slideshow",
  "kernelspec": {
   "display_name": "Python 3",
   "language": "python",
   "name": "python3"
  },
  "language_info": {
   "codemirror_mode": {
    "name": "ipython",
    "version": 3
   },
   "file_extension": ".py",
   "mimetype": "text/x-python",
   "name": "python",
   "nbconvert_exporter": "python",
   "pygments_lexer": "ipython3",
   "version": "3.7.6"
  }
 },
 "nbformat": 4,
 "nbformat_minor": 4
}
